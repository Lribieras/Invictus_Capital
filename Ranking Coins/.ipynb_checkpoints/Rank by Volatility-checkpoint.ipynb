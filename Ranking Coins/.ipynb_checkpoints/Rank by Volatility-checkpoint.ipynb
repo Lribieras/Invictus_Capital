{
 "cells": [
  {
   "cell_type": "code",
   "execution_count": 1,
   "metadata": {},
   "outputs": [],
   "source": [
    "import numpy as np\n",
    "import pandas as pd\n",
    "import math\n",
    "import matplotlib as mpl\n",
    "import matplotlib.pyplot as plt\n",
    "import pickle\n",
    "from scipy import log,exp,sqrt,stats"
   ]
  },
  {
   "cell_type": "code",
   "execution_count": 6,
   "metadata": {},
   "outputs": [],
   "source": [
    "# Importing pickle file\n",
    "data = np.load('/Users/louisribieras/Desktop/IXPERIENCE/my_invictus/data/latest_coin_data.pkl')"
   ]
  },
  {
   "cell_type": "code",
   "execution_count": 7,
   "metadata": {},
   "outputs": [],
   "source": [
    "# Drop Null Values\n",
    "data = data.dropna()"
   ]
  },
  {
   "cell_type": "markdown",
   "metadata": {},
   "source": [
    "# close_price array"
   ]
  },
  {
   "cell_type": "code",
   "execution_count": 8,
   "metadata": {},
   "outputs": [],
   "source": [
    "# Initialize a close_price list\n",
    "close_list = list()\n",
    "# Making a list of all close_prices\n",
    "for coin in data.columns:\n",
    "    for date in data.index:\n",
    "        close_list.append(data[coin][date]['close_price'])"
   ]
  },
  {
   "cell_type": "code",
   "execution_count": 9,
   "metadata": {},
   "outputs": [],
   "source": [
    "# Splitting list into 133 lists (one per coin)\n",
    "close_list2 = [close_list[i:i+916] for i  in range(0, len(close_list), 916)]"
   ]
  },
  {
   "cell_type": "code",
   "execution_count": 10,
   "metadata": {},
   "outputs": [
    {
     "data": {
      "text/plain": [
       "array([[6.50000e-05, 5.06100e-03, 1.81220e-02, ..., 1.62450e-01,\n",
       "        1.78951e-01, 3.25430e-02],\n",
       "       [9.84780e-02, 1.61982e-01, 1.39000e-04, ..., 1.45160e-02,\n",
       "        7.15320e-02, 4.77300e-03],\n",
       "       [1.30000e+00, 8.61200e-03, 1.63350e-02, ..., 1.52000e+00,\n",
       "        4.66000e-04, 2.96000e+00],\n",
       "       ...,\n",
       "       [1.55000e+00, 1.18200e-03, 3.22660e-02, ..., 1.07000e+00,\n",
       "        6.13120e-02, 1.64313e-01],\n",
       "       [5.40602e-01, 7.95900e-03, 3.40000e+00, ..., 1.14000e+00,\n",
       "        3.06910e-02, 3.11840e-02],\n",
       "       [1.42200e-03, 2.97900e-03, 2.53840e-02, ..., 5.90800e-03,\n",
       "        1.09770e+02, 1.73800e-03]])"
      ]
     },
     "execution_count": 10,
     "metadata": {},
     "output_type": "execute_result"
    }
   ],
   "source": [
    "# Make an array\n",
    "close_ar = np.asarray(close_list2)\n",
    "close_ar"
   ]
  },
  {
   "cell_type": "markdown",
   "metadata": {},
   "source": [
    "# open_price array"
   ]
  },
  {
   "cell_type": "code",
   "execution_count": 12,
   "metadata": {},
   "outputs": [],
   "source": [
    "# Initialize a open_price list\n",
    "open_list = list()\n",
    "# Making a list of all close_prices\n",
    "for column in data.columns:\n",
    "    for date in data.index:\n",
    "        open_list.append(data[column][date]['open_price'])"
   ]
  },
  {
   "cell_type": "code",
   "execution_count": 13,
   "metadata": {},
   "outputs": [],
   "source": [
    "# Splitting list into 133 lists (one per coin)\n",
    "open_list2 = [open_list[i:i+916] for i  in range(0, len(open_list), 916)]"
   ]
  },
  {
   "cell_type": "code",
   "execution_count": 14,
   "metadata": {},
   "outputs": [],
   "source": [
    "# Make an array\n",
    "open_ar = np.asarray(open_list2)"
   ]
  },
  {
   "cell_type": "markdown",
   "metadata": {},
   "source": [
    "# Calculating percent change in price"
   ]
  },
  {
   "cell_type": "code",
   "execution_count": 15,
   "metadata": {},
   "outputs": [
    {
     "data": {
      "text/plain": [
       "array([[ 0.03174603,  0.01118881, -0.0078835 , ..., -0.04650944,\n",
       "        -0.05191523, -0.04234595],\n",
       "       [-0.07486355, -0.07056994,  0.03731343, ...,  0.01241456,\n",
       "         0.00628825, -0.01668727],\n",
       "       [-0.01515152,  0.01281901,  0.0208737 , ...,  0.07801418,\n",
       "         0.05429864,  0.07636364],\n",
       "       ...,\n",
       "       [ 0.0130719 , -0.01827243,  0.00360809, ...,  0.        ,\n",
       "         0.22033359, -0.00416364],\n",
       "       [-0.01539375,  0.00874525,  0.09677419, ...,  0.03636364,\n",
       "         0.02989933,  0.06652074],\n",
       "       [-0.01998622, -0.08112276,  0.00890302, ..., -0.02395506,\n",
       "         0.00882272,  0.01400233]])"
      ]
     },
     "execution_count": 15,
     "metadata": {},
     "output_type": "execute_result"
    }
   ],
   "source": [
    "# Calculating percent change in prices\n",
    "price_ar = (close_ar - open_ar)/open_ar\n",
    "price_ar"
   ]
  },
  {
   "cell_type": "code",
   "execution_count": 16,
   "metadata": {},
   "outputs": [
    {
     "data": {
      "text/html": [
       "<div>\n",
       "<style scoped>\n",
       "    .dataframe tbody tr th:only-of-type {\n",
       "        vertical-align: middle;\n",
       "    }\n",
       "\n",
       "    .dataframe tbody tr th {\n",
       "        vertical-align: top;\n",
       "    }\n",
       "\n",
       "    .dataframe thead th {\n",
       "        text-align: right;\n",
       "    }\n",
       "</style>\n",
       "<table border=\"1\" class=\"dataframe\">\n",
       "  <thead>\n",
       "    <tr style=\"text-align: right;\">\n",
       "      <th></th>\n",
       "      <th>0</th>\n",
       "      <th>1</th>\n",
       "      <th>2</th>\n",
       "      <th>3</th>\n",
       "      <th>4</th>\n",
       "      <th>5</th>\n",
       "      <th>6</th>\n",
       "      <th>7</th>\n",
       "      <th>8</th>\n",
       "      <th>9</th>\n",
       "      <th>...</th>\n",
       "      <th>906</th>\n",
       "      <th>907</th>\n",
       "      <th>908</th>\n",
       "      <th>909</th>\n",
       "      <th>910</th>\n",
       "      <th>911</th>\n",
       "      <th>912</th>\n",
       "      <th>913</th>\n",
       "      <th>914</th>\n",
       "      <th>915</th>\n",
       "    </tr>\n",
       "  </thead>\n",
       "  <tbody>\n",
       "    <tr>\n",
       "      <th>1337coin</th>\n",
       "      <td>0.031746</td>\n",
       "      <td>0.011189</td>\n",
       "      <td>-0.007883</td>\n",
       "      <td>0.007692</td>\n",
       "      <td>0.011189</td>\n",
       "      <td>0.001795</td>\n",
       "      <td>0.053205</td>\n",
       "      <td>0.016239</td>\n",
       "      <td>0.560905</td>\n",
       "      <td>0.026849</td>\n",
       "      <td>...</td>\n",
       "      <td>-0.046504</td>\n",
       "      <td>-0.039415</td>\n",
       "      <td>-0.036936</td>\n",
       "      <td>-0.021321</td>\n",
       "      <td>-0.043638</td>\n",
       "      <td>-0.251888</td>\n",
       "      <td>0.194625</td>\n",
       "      <td>-0.046509</td>\n",
       "      <td>-0.051915</td>\n",
       "      <td>-0.042346</td>\n",
       "    </tr>\n",
       "    <tr>\n",
       "      <th>advanced-internet-blocks</th>\n",
       "      <td>-0.074864</td>\n",
       "      <td>-0.070570</td>\n",
       "      <td>0.037313</td>\n",
       "      <td>-0.005181</td>\n",
       "      <td>-0.001632</td>\n",
       "      <td>-0.061979</td>\n",
       "      <td>-0.072987</td>\n",
       "      <td>-0.044414</td>\n",
       "      <td>-0.071975</td>\n",
       "      <td>-0.031817</td>\n",
       "      <td>...</td>\n",
       "      <td>-0.001839</td>\n",
       "      <td>0.000000</td>\n",
       "      <td>0.083799</td>\n",
       "      <td>-0.181369</td>\n",
       "      <td>-0.024242</td>\n",
       "      <td>0.066900</td>\n",
       "      <td>0.066667</td>\n",
       "      <td>0.012415</td>\n",
       "      <td>0.006288</td>\n",
       "      <td>-0.016687</td>\n",
       "    </tr>\n",
       "    <tr>\n",
       "      <th>adzcoin</th>\n",
       "      <td>-0.015152</td>\n",
       "      <td>0.012819</td>\n",
       "      <td>0.020874</td>\n",
       "      <td>-0.046959</td>\n",
       "      <td>-0.046167</td>\n",
       "      <td>-0.008258</td>\n",
       "      <td>-0.025202</td>\n",
       "      <td>-0.056868</td>\n",
       "      <td>0.061538</td>\n",
       "      <td>-0.031580</td>\n",
       "      <td>...</td>\n",
       "      <td>0.037977</td>\n",
       "      <td>0.122137</td>\n",
       "      <td>0.074255</td>\n",
       "      <td>0.076052</td>\n",
       "      <td>0.031250</td>\n",
       "      <td>0.052215</td>\n",
       "      <td>0.080645</td>\n",
       "      <td>0.078014</td>\n",
       "      <td>0.054299</td>\n",
       "      <td>0.076364</td>\n",
       "    </tr>\n",
       "    <tr>\n",
       "      <th>aeon</th>\n",
       "      <td>0.048891</td>\n",
       "      <td>0.079059</td>\n",
       "      <td>0.052743</td>\n",
       "      <td>0.108712</td>\n",
       "      <td>0.051917</td>\n",
       "      <td>0.170078</td>\n",
       "      <td>0.033472</td>\n",
       "      <td>0.064000</td>\n",
       "      <td>-0.013738</td>\n",
       "      <td>0.064516</td>\n",
       "      <td>...</td>\n",
       "      <td>0.002374</td>\n",
       "      <td>-0.004294</td>\n",
       "      <td>0.005028</td>\n",
       "      <td>-0.004773</td>\n",
       "      <td>-0.058101</td>\n",
       "      <td>0.006955</td>\n",
       "      <td>0.000742</td>\n",
       "      <td>-0.000666</td>\n",
       "      <td>0.000678</td>\n",
       "      <td>0.031579</td>\n",
       "    </tr>\n",
       "    <tr>\n",
       "      <th>anarchistsprime</th>\n",
       "      <td>0.008696</td>\n",
       "      <td>0.000000</td>\n",
       "      <td>-0.004676</td>\n",
       "      <td>0.001460</td>\n",
       "      <td>0.032787</td>\n",
       "      <td>-0.009162</td>\n",
       "      <td>0.023952</td>\n",
       "      <td>-0.005623</td>\n",
       "      <td>0.013565</td>\n",
       "      <td>0.024038</td>\n",
       "      <td>...</td>\n",
       "      <td>-0.000646</td>\n",
       "      <td>0.014021</td>\n",
       "      <td>0.077394</td>\n",
       "      <td>0.028681</td>\n",
       "      <td>-0.037037</td>\n",
       "      <td>-0.009808</td>\n",
       "      <td>-0.014952</td>\n",
       "      <td>-0.111864</td>\n",
       "      <td>0.000000</td>\n",
       "      <td>0.037890</td>\n",
       "    </tr>\n",
       "  </tbody>\n",
       "</table>\n",
       "<p>5 rows × 916 columns</p>\n",
       "</div>"
      ],
      "text/plain": [
       "                               0         1         2         3         4    \\\n",
       "1337coin                  0.031746  0.011189 -0.007883  0.007692  0.011189   \n",
       "advanced-internet-blocks -0.074864 -0.070570  0.037313 -0.005181 -0.001632   \n",
       "adzcoin                  -0.015152  0.012819  0.020874 -0.046959 -0.046167   \n",
       "aeon                      0.048891  0.079059  0.052743  0.108712  0.051917   \n",
       "anarchistsprime           0.008696  0.000000 -0.004676  0.001460  0.032787   \n",
       "\n",
       "                               5         6         7         8         9    \\\n",
       "1337coin                  0.001795  0.053205  0.016239  0.560905  0.026849   \n",
       "advanced-internet-blocks -0.061979 -0.072987 -0.044414 -0.071975 -0.031817   \n",
       "adzcoin                  -0.008258 -0.025202 -0.056868  0.061538 -0.031580   \n",
       "aeon                      0.170078  0.033472  0.064000 -0.013738  0.064516   \n",
       "anarchistsprime          -0.009162  0.023952 -0.005623  0.013565  0.024038   \n",
       "\n",
       "                            ...          906       907       908       909  \\\n",
       "1337coin                    ...    -0.046504 -0.039415 -0.036936 -0.021321   \n",
       "advanced-internet-blocks    ...    -0.001839  0.000000  0.083799 -0.181369   \n",
       "adzcoin                     ...     0.037977  0.122137  0.074255  0.076052   \n",
       "aeon                        ...     0.002374 -0.004294  0.005028 -0.004773   \n",
       "anarchistsprime             ...    -0.000646  0.014021  0.077394  0.028681   \n",
       "\n",
       "                               910       911       912       913       914  \\\n",
       "1337coin                 -0.043638 -0.251888  0.194625 -0.046509 -0.051915   \n",
       "advanced-internet-blocks -0.024242  0.066900  0.066667  0.012415  0.006288   \n",
       "adzcoin                   0.031250  0.052215  0.080645  0.078014  0.054299   \n",
       "aeon                     -0.058101  0.006955  0.000742 -0.000666  0.000678   \n",
       "anarchistsprime          -0.037037 -0.009808 -0.014952 -0.111864  0.000000   \n",
       "\n",
       "                               915  \n",
       "1337coin                 -0.042346  \n",
       "advanced-internet-blocks -0.016687  \n",
       "adzcoin                   0.076364  \n",
       "aeon                      0.031579  \n",
       "anarchistsprime           0.037890  \n",
       "\n",
       "[5 rows x 916 columns]"
      ]
     },
     "execution_count": 16,
     "metadata": {},
     "output_type": "execute_result"
    }
   ],
   "source": [
    "# Make a DataFrame\n",
    "price_df = pd.DataFrame(data = price_ar, index = data.index)\n",
    "price_df.head(5)"
   ]
  },
  {
   "cell_type": "code",
   "execution_count": 17,
   "metadata": {},
   "outputs": [
    {
     "data": {
      "text/plain": [
       "1337coin                    0.120145\n",
       "advanced-internet-blocks    0.090787\n",
       "adzcoin                     0.202629\n",
       "aeon                        0.109396\n",
       "anarchistsprime             0.079310\n",
       "dtype: float64"
      ]
     },
     "execution_count": 17,
     "metadata": {},
     "output_type": "execute_result"
    }
   ],
   "source": [
    "# Calculating standard deviation (volatility)\n",
    "price_vol = price_df.std(axis = 1)\n",
    "price_vol.head(5)"
   ]
  },
  {
   "cell_type": "code",
   "execution_count": 18,
   "metadata": {},
   "outputs": [
    {
     "data": {
      "text/html": [
       "<div>\n",
       "<style scoped>\n",
       "    .dataframe tbody tr th:only-of-type {\n",
       "        vertical-align: middle;\n",
       "    }\n",
       "\n",
       "    .dataframe tbody tr th {\n",
       "        vertical-align: top;\n",
       "    }\n",
       "\n",
       "    .dataframe thead th {\n",
       "        text-align: right;\n",
       "    }\n",
       "</style>\n",
       "<table border=\"1\" class=\"dataframe\">\n",
       "  <thead>\n",
       "    <tr style=\"text-align: right;\">\n",
       "      <th></th>\n",
       "      <th>Volatility</th>\n",
       "    </tr>\n",
       "  </thead>\n",
       "  <tbody>\n",
       "    <tr>\n",
       "      <th>1337coin</th>\n",
       "      <td>0.120145</td>\n",
       "    </tr>\n",
       "    <tr>\n",
       "      <th>advanced-internet-blocks</th>\n",
       "      <td>0.090787</td>\n",
       "    </tr>\n",
       "    <tr>\n",
       "      <th>adzcoin</th>\n",
       "      <td>0.202629</td>\n",
       "    </tr>\n",
       "    <tr>\n",
       "      <th>aeon</th>\n",
       "      <td>0.109396</td>\n",
       "    </tr>\n",
       "    <tr>\n",
       "      <th>anarchistsprime</th>\n",
       "      <td>0.079310</td>\n",
       "    </tr>\n",
       "  </tbody>\n",
       "</table>\n",
       "</div>"
      ],
      "text/plain": [
       "                          Volatility\n",
       "1337coin                    0.120145\n",
       "advanced-internet-blocks    0.090787\n",
       "adzcoin                     0.202629\n",
       "aeon                        0.109396\n",
       "anarchistsprime             0.079310"
      ]
     },
     "execution_count": 18,
     "metadata": {},
     "output_type": "execute_result"
    }
   ],
   "source": [
    "# DataFrame of Volatilities\n",
    "vol_df = pd.DataFrame(data = price_vol)\n",
    "vol_df.columns = ['Volatility']\n",
    "vol_df.head(5)"
   ]
  },
  {
   "cell_type": "code",
   "execution_count": 19,
   "metadata": {},
   "outputs": [
    {
     "name": "stdout",
     "output_type": "stream",
     "text": [
      "Coins with lowest Volatility: \n",
      "                          Volatility  Vol_Rank\n",
      "anarchistsprime             0.079310       1.0\n",
      "artbyte                     0.082609       2.0\n",
      "advanced-internet-blocks    0.090787       3.0\n",
      "stealth                     0.103601       4.0\n",
      "bata                        0.107115       5.0\n",
      "aeon                        0.109396       6.0\n",
      "bunnycoin                   0.114285       7.0\n",
      "auroracoin                  0.115163       8.0\n",
      "bitcoin                     0.115270       9.0\n",
      "stellar                     0.116608      10.0\n",
      "\n",
      "Coins with highest Volatility: \n",
      "                Volatility  Vol_Rank\n",
      "deutsche-emark    0.462073     124.0\n",
      "pandacoin-pnd     0.502811     125.0\n",
      "groestlcoin       0.582477     126.0\n",
      "verge             0.782925     127.0\n",
      "digibyte          0.819299     128.0\n",
      "clubcoin          3.215251     129.0\n",
      "goldcoin          3.858174     130.0\n",
      "foldingcoin       4.059278     131.0\n",
      "hyperstake        5.560857     132.0\n",
      "gulden            9.407872     133.0\n"
     ]
    }
   ],
   "source": [
    "# Sorting and Ranking coins by Volatility\n",
    "vol_df = vol_df.sort_values(by='Volatility', ascending = True)\n",
    "vol_df['Vol_Rank'] = vol_df.rank(ascending = True)\n",
    "print('Coins with lowest Volatility: ')\n",
    "print(vol_df.head(10))\n",
    "print()\n",
    "print('Coins with highest Volatility: ')\n",
    "print(vol_df.tail(10))"
   ]
  }
 ],
 "metadata": {
  "kernelspec": {
   "display_name": "Python 3",
   "language": "python",
   "name": "python3"
  },
  "language_info": {
   "codemirror_mode": {
    "name": "ipython",
    "version": 3
   },
   "file_extension": ".py",
   "mimetype": "text/x-python",
   "name": "python",
   "nbconvert_exporter": "python",
   "pygments_lexer": "ipython3",
   "version": "3.6.5"
  }
 },
 "nbformat": 4,
 "nbformat_minor": 2
}
