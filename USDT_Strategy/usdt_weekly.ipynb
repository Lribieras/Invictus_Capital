{
 "cells": [
  {
   "cell_type": "code",
   "execution_count": 5,
   "metadata": {
    "hideCode": false,
    "hidePrompt": false
   },
   "outputs": [
    {
     "name": "stdout",
     "output_type": "stream",
     "text": [
      "Packages\n"
     ]
    }
   ],
   "source": [
    "import numpy as np\n",
    "import pandas as pd\n",
    "import math\n",
    "import matplotlib as mpl\n",
    "import matplotlib.pyplot as plt\n",
    "from matplotlib import axes\n",
    "import pickle\n",
    "from sklearn import preprocessing as pre\n",
    "from datetime import datetime\n",
    "from scipy import log,exp,sqrt,stats\n",
    "print('Packages')"
   ]
  },
  {
   "cell_type": "code",
   "execution_count": 6,
   "metadata": {
    "hideCode": false,
    "hidePrompt": false
   },
   "outputs": [
    {
     "name": "stdout",
     "output_type": "stream",
     "text": [
      "Loading of Data\n",
      "shape of data:  (2549, 947)\n"
     ]
    }
   ],
   "source": [
    "# Importing pickle file\n",
    "data1 = np.load('latest_coin_data.pkl')\n",
    "data2 = np.load('additional_data.pkl')\n",
    "\n",
    "# Removing July dates from data1\n",
    "data1 = data1.drop(data1.columns[0:4], axis = 1)\n",
    "\n",
    "# Combining the two dataframes\n",
    "data = pd.concat([data2, data1], axis = 1, join = 'outer', sort = True)\n",
    "\n",
    "# Filling Nan values with 0\n",
    "data3 = data.fillna(value = 0, inplace = True)\n",
    "\n",
    "# Saving original date index\n",
    "date_index = data.columns\n",
    "\n",
    "print('Loading of Data')\n",
    "print('shape of data: ', data.shape)"
   ]
  },
  {
   "cell_type": "code",
   "execution_count": 7,
   "metadata": {},
   "outputs": [
    {
     "data": {
      "text/html": [
       "<div>\n",
       "<style scoped>\n",
       "    .dataframe tbody tr th:only-of-type {\n",
       "        vertical-align: middle;\n",
       "    }\n",
       "\n",
       "    .dataframe tbody tr th {\n",
       "        vertical-align: top;\n",
       "    }\n",
       "\n",
       "    .dataframe thead th {\n",
       "        text-align: right;\n",
       "    }\n",
       "</style>\n",
       "<table border=\"1\" class=\"dataframe\">\n",
       "  <thead>\n",
       "    <tr style=\"text-align: right;\">\n",
       "      <th></th>\n",
       "      <th>Aug 04, 2018</th>\n",
       "      <th>Aug 03, 2018</th>\n",
       "      <th>Aug 02, 2018</th>\n",
       "      <th>Aug 01, 2018</th>\n",
       "      <th>Jul 31, 2018</th>\n",
       "      <th>Jul 30, 2018</th>\n",
       "      <th>Jul 29, 2018</th>\n",
       "      <th>Jul 28, 2018</th>\n",
       "      <th>Jul 27, 2018</th>\n",
       "      <th>Jul 26, 2018</th>\n",
       "      <th>...</th>\n",
       "      <th>Jan 10, 2016</th>\n",
       "      <th>Jan 09, 2016</th>\n",
       "      <th>Jan 08, 2016</th>\n",
       "      <th>Jan 07, 2016</th>\n",
       "      <th>Jan 06, 2016</th>\n",
       "      <th>Jan 05, 2016</th>\n",
       "      <th>Jan 04, 2016</th>\n",
       "      <th>Jan 03, 2016</th>\n",
       "      <th>Jan 02, 2016</th>\n",
       "      <th>Jan 01, 2016</th>\n",
       "    </tr>\n",
       "  </thead>\n",
       "  <tbody>\n",
       "    <tr>\n",
       "      <th>007coin</th>\n",
       "      <td>0</td>\n",
       "      <td>0</td>\n",
       "      <td>0</td>\n",
       "      <td>0</td>\n",
       "      <td>0</td>\n",
       "      <td>0</td>\n",
       "      <td>0</td>\n",
       "      <td>0</td>\n",
       "      <td>0</td>\n",
       "      <td>0</td>\n",
       "      <td>...</td>\n",
       "      <td>0</td>\n",
       "      <td>0</td>\n",
       "      <td>0</td>\n",
       "      <td>0</td>\n",
       "      <td>0</td>\n",
       "      <td>{'open_price': 0.001377, 'high_price': 0.00138...</td>\n",
       "      <td>{'open_price': 0.001441, 'high_price': 0.00144...</td>\n",
       "      <td>{'open_price': 0.001474, 'high_price': 0.00147...</td>\n",
       "      <td>{'open_price': 0.001477, 'high_price': 0.00148...</td>\n",
       "      <td>{'open_price': 0.00149, 'high_price': 0.001501...</td>\n",
       "    </tr>\n",
       "    <tr>\n",
       "      <th>0chain</th>\n",
       "      <td>{'open_price': 0.248842, 'high_price': 0.28436...</td>\n",
       "      <td>{'open_price': 0.248764, 'high_price': 0.26684...</td>\n",
       "      <td>{'open_price': 0.291109, 'high_price': 0.29520...</td>\n",
       "      <td>{'open_price': 0.320679, 'high_price': 0.32737...</td>\n",
       "      <td>{'open_price': 0.34176, 'high_price': 0.355115...</td>\n",
       "      <td>{'open_price': 0.372186, 'high_price': 0.37289...</td>\n",
       "      <td>{'open_price': 0.386164, 'high_price': 0.39037...</td>\n",
       "      <td>{'open_price': 0.354788, 'high_price': 0.40270...</td>\n",
       "      <td>{'open_price': 0.350694, 'high_price': 0.36775...</td>\n",
       "      <td>{'open_price': 0.374967, 'high_price': 0.40140...</td>\n",
       "      <td>...</td>\n",
       "      <td>0</td>\n",
       "      <td>0</td>\n",
       "      <td>0</td>\n",
       "      <td>0</td>\n",
       "      <td>0</td>\n",
       "      <td>0</td>\n",
       "      <td>0</td>\n",
       "      <td>0</td>\n",
       "      <td>0</td>\n",
       "      <td>0</td>\n",
       "    </tr>\n",
       "    <tr>\n",
       "      <th>0x</th>\n",
       "      <td>{'open_price': 0.964003, 'high_price': 0.99142...</td>\n",
       "      <td>{'open_price': 0.954967, 'high_price': 1.01, '...</td>\n",
       "      <td>{'open_price': 1.06, 'high_price': 1.07, 'low_...</td>\n",
       "      <td>{'open_price': 1.1, 'high_price': 1.1, 'low_pr...</td>\n",
       "      <td>{'open_price': 1.15, 'high_price': 1.15, 'low_...</td>\n",
       "      <td>{'open_price': 1.21, 'high_price': 1.21, 'low_...</td>\n",
       "      <td>{'open_price': 1.24, 'high_price': 1.24, 'low_...</td>\n",
       "      <td>{'open_price': 1.15, 'high_price': 1.24, 'low_...</td>\n",
       "      <td>{'open_price': 1.08, 'high_price': 1.18, 'low_...</td>\n",
       "      <td>{'open_price': 1.17, 'high_price': 1.19, 'low_...</td>\n",
       "      <td>...</td>\n",
       "      <td>0</td>\n",
       "      <td>0</td>\n",
       "      <td>0</td>\n",
       "      <td>0</td>\n",
       "      <td>0</td>\n",
       "      <td>0</td>\n",
       "      <td>0</td>\n",
       "      <td>0</td>\n",
       "      <td>0</td>\n",
       "      <td>0</td>\n",
       "    </tr>\n",
       "  </tbody>\n",
       "</table>\n",
       "<p>3 rows × 947 columns</p>\n",
       "</div>"
      ],
      "text/plain": [
       "                                              Aug 04, 2018  \\\n",
       "007coin                                                  0   \n",
       "0chain   {'open_price': 0.248842, 'high_price': 0.28436...   \n",
       "0x       {'open_price': 0.964003, 'high_price': 0.99142...   \n",
       "\n",
       "                                              Aug 03, 2018  \\\n",
       "007coin                                                  0   \n",
       "0chain   {'open_price': 0.248764, 'high_price': 0.26684...   \n",
       "0x       {'open_price': 0.954967, 'high_price': 1.01, '...   \n",
       "\n",
       "                                              Aug 02, 2018  \\\n",
       "007coin                                                  0   \n",
       "0chain   {'open_price': 0.291109, 'high_price': 0.29520...   \n",
       "0x       {'open_price': 1.06, 'high_price': 1.07, 'low_...   \n",
       "\n",
       "                                              Aug 01, 2018  \\\n",
       "007coin                                                  0   \n",
       "0chain   {'open_price': 0.320679, 'high_price': 0.32737...   \n",
       "0x       {'open_price': 1.1, 'high_price': 1.1, 'low_pr...   \n",
       "\n",
       "                                              Jul 31, 2018  \\\n",
       "007coin                                                  0   \n",
       "0chain   {'open_price': 0.34176, 'high_price': 0.355115...   \n",
       "0x       {'open_price': 1.15, 'high_price': 1.15, 'low_...   \n",
       "\n",
       "                                              Jul 30, 2018  \\\n",
       "007coin                                                  0   \n",
       "0chain   {'open_price': 0.372186, 'high_price': 0.37289...   \n",
       "0x       {'open_price': 1.21, 'high_price': 1.21, 'low_...   \n",
       "\n",
       "                                              Jul 29, 2018  \\\n",
       "007coin                                                  0   \n",
       "0chain   {'open_price': 0.386164, 'high_price': 0.39037...   \n",
       "0x       {'open_price': 1.24, 'high_price': 1.24, 'low_...   \n",
       "\n",
       "                                              Jul 28, 2018  \\\n",
       "007coin                                                  0   \n",
       "0chain   {'open_price': 0.354788, 'high_price': 0.40270...   \n",
       "0x       {'open_price': 1.15, 'high_price': 1.24, 'low_...   \n",
       "\n",
       "                                              Jul 27, 2018  \\\n",
       "007coin                                                  0   \n",
       "0chain   {'open_price': 0.350694, 'high_price': 0.36775...   \n",
       "0x       {'open_price': 1.08, 'high_price': 1.18, 'low_...   \n",
       "\n",
       "                                              Jul 26, 2018  \\\n",
       "007coin                                                  0   \n",
       "0chain   {'open_price': 0.374967, 'high_price': 0.40140...   \n",
       "0x       {'open_price': 1.17, 'high_price': 1.19, 'low_...   \n",
       "\n",
       "                               ...                         Jan 10, 2016  \\\n",
       "007coin                        ...                                    0   \n",
       "0chain                         ...                                    0   \n",
       "0x                             ...                                    0   \n",
       "\n",
       "        Jan 09, 2016 Jan 08, 2016 Jan 07, 2016 Jan 06, 2016  \\\n",
       "007coin            0            0            0            0   \n",
       "0chain             0            0            0            0   \n",
       "0x                 0            0            0            0   \n",
       "\n",
       "                                              Jan 05, 2016  \\\n",
       "007coin  {'open_price': 0.001377, 'high_price': 0.00138...   \n",
       "0chain                                                   0   \n",
       "0x                                                       0   \n",
       "\n",
       "                                              Jan 04, 2016  \\\n",
       "007coin  {'open_price': 0.001441, 'high_price': 0.00144...   \n",
       "0chain                                                   0   \n",
       "0x                                                       0   \n",
       "\n",
       "                                              Jan 03, 2016  \\\n",
       "007coin  {'open_price': 0.001474, 'high_price': 0.00147...   \n",
       "0chain                                                   0   \n",
       "0x                                                       0   \n",
       "\n",
       "                                              Jan 02, 2016  \\\n",
       "007coin  {'open_price': 0.001477, 'high_price': 0.00148...   \n",
       "0chain                                                   0   \n",
       "0x                                                       0   \n",
       "\n",
       "                                              Jan 01, 2016  \n",
       "007coin  {'open_price': 0.00149, 'high_price': 0.001501...  \n",
       "0chain                                                   0  \n",
       "0x                                                       0  \n",
       "\n",
       "[3 rows x 947 columns]"
      ]
     },
     "execution_count": 7,
     "metadata": {},
     "output_type": "execute_result"
    }
   ],
   "source": [
    "data.head(3)"
   ]
  },
  {
   "cell_type": "code",
   "execution_count": null,
   "metadata": {
    "hideCode": true,
    "hidePrompt": false
   },
   "outputs": [
    {
     "name": "stdout",
     "output_type": "stream",
     "text": [
      "Getting Volumes\n"
     ]
    }
   ],
   "source": [
    "print('Getting Volumes')\n",
    "# Initialize a close_price list\n",
    "volumes_list = list()\n",
    "# Making a list of all close_prices\n",
    "for date in data.index:\n",
    "    for column in data.columns:\n",
    "        if data[column][date] == 0:\n",
    "            volumes_list.append(data[column][date])\n",
    "        else:\n",
    "            volumes_list.append(data[column][date]['volume'])"
   ]
  },
  {
   "cell_type": "code",
   "execution_count": null,
   "metadata": {
    "hideCode": true
   },
   "outputs": [],
   "source": [
    "print('Making volumes dataframe')\n",
    "# Splitting list into 133 lists (one per coin)\n",
    "volumes_list = [volumes_list[i:i+947] for i  in range(0, len(volumes_list), 947)]   \n",
    "# Making dataframe\n",
    "vol_data = pd.DataFrame(data = volumes_list, index = data.index, columns = data.columns)"
   ]
  },
  {
   "cell_type": "code",
   "execution_count": null,
   "metadata": {},
   "outputs": [],
   "source": [
    "vol_data.head(3)"
   ]
  },
  {
   "cell_type": "code",
   "execution_count": null,
   "metadata": {
    "hideCode": false
   },
   "outputs": [],
   "source": [
    "print('Getting Market Caps')\n",
    "# Initialize a close_price list\n",
    "mc_list = list()\n",
    "# Making a list of all close_prices\n",
    "for date in data.index:\n",
    "    for column in data.columns:\n",
    "        if data[column][date] == 0:\n",
    "            mc_list.append(data[column][date])\n",
    "        else:\n",
    "            mc_list.append(data[column][date]['market_cap'])"
   ]
  },
  {
   "cell_type": "code",
   "execution_count": null,
   "metadata": {
    "hideCode": false
   },
   "outputs": [],
   "source": [
    "print('Making Market Cap dataframe')\n",
    "# Splitting list into 133 lists (one per coin)\n",
    "mc_list = [mc_list[i:i+947] for i  in range(0, len(mc_list), 947)]   \n",
    "# Making dataframe\n",
    "mc_data = pd.DataFrame(data = mc_list, index = data.index, columns = data.columns)"
   ]
  },
  {
   "cell_type": "code",
   "execution_count": null,
   "metadata": {},
   "outputs": [],
   "source": [
    "mc_data.head(3)"
   ]
  },
  {
   "cell_type": "code",
   "execution_count": null,
   "metadata": {
    "hideCode": true
   },
   "outputs": [],
   "source": [
    "print('Getting Close Prices')\n",
    "# Initialize a close_price list\n",
    "cp_list = list()\n",
    "# Making a list of all close_prices\n",
    "for date in data.index:\n",
    "    for column in data.columns:\n",
    "        if data[column][date] == 0:\n",
    "            cp_list.append(0)\n",
    "        else:\n",
    "            cp_list.append(data[column][date]['close_price'])"
   ]
  },
  {
   "cell_type": "code",
   "execution_count": null,
   "metadata": {
    "hideCode": true
   },
   "outputs": [],
   "source": [
    "print('Making Close Price dataframe')\n",
    "# Splitting list into 133 lists (one per coin)\n",
    "cp_list = [cp_list[i:i+947] for i  in range(0, len(cp_list), 947)]   \n",
    "# Making dataframe\n",
    "close_data = pd.DataFrame(data = cp_list, index = data.index, columns = data.columns)"
   ]
  },
  {
   "cell_type": "code",
   "execution_count": null,
   "metadata": {},
   "outputs": [],
   "source": [
    "close_data.head(5)"
   ]
  },
  {
   "cell_type": "code",
   "execution_count": null,
   "metadata": {
    "hideCode": false
   },
   "outputs": [],
   "source": [
    "print('Converting date index to datetime index')\n",
    "# Index to Datetime index\n",
    "vol_data.columns = pd.to_datetime(vol_data.columns)\n",
    "mc_data.columns = pd.to_datetime(mc_data.columns)\n",
    "close_data.columns = pd.to_datetime(close_data.columns)\n",
    "\n",
    "# Weekly Medians\n",
    "vol_data = vol_data.resample('W', axis = 1).median()\n",
    "mc_data = mc_data.resample('W', axis = 1).median()\n",
    "close_data = close_data.resample('W', axis = 1).median()\n",
    "\n",
    "# Weekly date indices\n",
    "vol_dates = vol_data.columns\n",
    "\n",
    "\n",
    "\n",
    "# Reverting Index code\n",
    "# vol_data.columns = date_index\n",
    "# mc_data.columns = date_index\n",
    "# close_data.columns = date_index"
   ]
  },
  {
   "cell_type": "code",
   "execution_count": null,
   "metadata": {},
   "outputs": [],
   "source": [
    "print('Getting USDT data')\n",
    "\n",
    "usdt_vol = pd.DataFrame(data = vol_data.loc['tether'])\n",
    "\n",
    "# PCT Change in tether volume\n",
    "usdt_pct = usdt_vol.pct_change(1)\n",
    "# Reverting index to index from datetime\n",
    "usdt.index = date_index\n",
    "usdt_pct.head(5)\n"
   ]
  },
  {
   "cell_type": "code",
   "execution_count": null,
   "metadata": {},
   "outputs": [],
   "source": [
    "def share_cap_recurse(market_cap_list, num_coins, cap_ceiling_amount, final_cap_list):\n",
    "\n",
    "    not_realloc_val = 0\n",
    "\n",
    "    realloc_val = 0\n",
    "\n",
    "    num_final = 0\n",
    "\n",
    "    new_market_cap_list = []\n",
    "    \n",
    "    usdt_share = 0\n",
    "\n",
    "    \n",
    "\n",
    "    for i in range(0, len(market_cap_list)):\n",
    "\n",
    "        if(market_cap_list[i] > cap_ceiling_amount):\n",
    "\n",
    "            final_cap_list.append(cap_ceiling_amount)\n",
    "\n",
    "            realloc_val += market_cap_list[i] - cap_ceiling_amount\n",
    "\n",
    "            num_final += 1\n",
    "\n",
    "        else:\n",
    "\n",
    "            not_realloc_val += market_cap_list[i]\n",
    "\n",
    "     \n",
    "\n",
    "    if(num_final!=0):\n",
    "\n",
    "        new_market_cap_list = [x * (1+(realloc_val/not_realloc_val)) for x in market_cap_list[num_final:]]\n",
    "\n",
    "    else:\n",
    "\n",
    "        new_market_cap_list = deepcopy(market_cap_list)\n",
    "\n",
    "    \n",
    "\n",
    "    if len(final_cap_list) == num_coins:\n",
    "\n",
    "        return\n",
    "\n",
    "    elif (new_market_cap_list[0] <= cap_ceiling_amount): #assumes ordered desc in market cap\n",
    "\n",
    "        for cap in new_market_cap_list:\n",
    "\n",
    "            final_cap_list.append(cap)\n",
    "\n",
    "        return       \n",
    "\n",
    "    else:\n",
    "\n",
    "        share_cap_recurse(new_market_cap_list, num_coins, cap_ceiling_amount, final_cap_list)\n",
    "\n",
    "        \n",
    "\n",
    "def share_cap(market_cap_list, cap_ceiling_percent):  #CHANGE CAP CEILING HERE\n",
    "\n",
    "    total_cap = sum(market_cap_list)*(1 - tether_share)\n",
    "\n",
    "    cap_ceiling_amount = total_cap * cap_ceiling_percent\n",
    "\n",
    "    final_cap_list = []\n",
    "\n",
    "    \n",
    "\n",
    "    share_cap_recurse(market_cap_list, len(market_cap_list), cap_ceiling_amount, final_cap_list)\n",
    "\n",
    "    \n",
    "\n",
    "    return (final_cap_list)"
   ]
  },
  {
   "cell_type": "code",
   "execution_count": null,
   "metadata": {
    "hideCode": false
   },
   "outputs": [],
   "source": [
    "selectedmarket = mc_data.copy()\n",
    "\n",
    "selectedclose1 = close_data.copy().T\n",
    "selectedreturns = selectedclose1.pct_change(1).T\n",
    "selectedreturns.head()\n",
    "print('selectedreturns')"
   ]
  },
  {
   "cell_type": "code",
<<<<<<< HEAD
   "execution_count": null,
=======
   "execution_count": 16,
>>>>>>> 6341136528033f1c37910ec30a064f4fb0a58db0
   "metadata": {},
   "outputs": [],
   "source": [
    "selectedreturns_col = selectedreturns.columns"
   ]
  },
  {
   "cell_type": "code",
<<<<<<< HEAD
   "execution_count": null,
=======
   "execution_count": 17,
>>>>>>> 6341136528033f1c37910ec30a064f4fb0a58db0
   "metadata": {},
   "outputs": [],
   "source": [
    "#FOR LOOP FOR C10\n",
    "topmc10 = {}\n",
    "sc10 = {}\n",
    "tc10 = {}\n",
    "ps10 = {}\n",
    "invest10 = {}\n",
    "returns10 = {}\n",
    "lg_returns10 = {}\n",
    "selectedmc10 = {}\n",
    "topcoins10 = {}\n",
    "\n",
    "#for every date\n",
    "for column in selectedmarket:\n",
    "    #sort in descending order\n",
    "    selectedmc10[column] = selectedmarket[column].sort_values(ascending=False)\n",
    "    \n",
    "    #take the top coins\n",
    "    topmc10[column] = selectedmc10[column].head(10)\n",
    "    #take the index of the top coins\n",
    "    topcoins10[column] = topmc10[column].index\n",
    "    \n",
    "    #get the share cap of the top 20\n",
    "    sc10[column] = share_cap(topmc10[column], 0.15)      #CHOICE OF CAP CEILING\n",
    "    \n",
    "    #total cap of top 20\n",
    "    tc10[column] = sum(sc10[column])\n",
    "    \n",
    "    #percentage of total fund allocated to tether/C10- NEW CODE!!\n",
    "    tetherfund = 0.15\n",
    "    c10fund = 1 - tetherfund\n",
    "    \n",
    "    #percentage share to be allocated for top 20 - NEW CODE!!!\n",
    "    ps10[column] = [x * c10fund / tc10[column] for x in sc10[column] ]\n",
    "    \n",
    "    #building dataframe of top20 coins by mc and %share to be invested\n",
    "    invest10[column] = pd.DataFrame()\n",
    "    invest10[column] = pd.DataFrame({'coin': topcoins10[column], 'pct_share': ps10[column]})\n",
    "    invest10[column] = invest10[column].set_index('coin')\n",
    "        \n",
    "        \n",
    "    #building dataframe of top 20 coins by mc and close price of that week\n",
    "    for name in selectedreturns:\n",
    "        returns10[column] = pd.DataFrame()\n",
    "        returns10[column] = pd.DataFrame({'returns': selectedreturns[column]})\n",
    "        returns10[column] = returns10[column].loc[topcoins10[column]]\n",
    "        \n",
    "     #for loop to generate portfolio returns for a particular week\n",
    "    portfolio_simple_returns10 = {}\n",
    "    portfolio_total_returns10 = list()\n",
    "   \n",
    "    #tether returns\n",
    "#     tetherreturns[column] = INSERT CODE TO GENERATE TETHERRETURNS PER START DATE\n",
    "\n",
    "    for i, df in invest10.items():\n",
    "        portfolio_simple_returns10[i] = (invest10[i].transpose().dot(returns10[i]))\n",
    "        portfolio_total_returns10.append(portfolio_simple_returns10[i]['returns'])      "
   ]
  },
  {
   "cell_type": "code",
   "execution_count": null,
   "metadata": {
    "hideCode": true
   },
   "outputs": [],
   "source": [
    "#FOR LOOP FOR C10\n",
    "topmc10 = {}\n",
    "sc10 = {}\n",
    "tc10 = {}\n",
    "ps10 = {}\n",
    "invest10 = {}\n",
    "returns10 = {}\n",
    "lg_returns10 = {}\n",
    "selectedmc10 = {}\n",
    "topcoins10 = {}\n",
    "\n",
    "#for every date\n",
    "for column in selectedmarket:\n",
    "    #sort in descending order\n",
    "    selectedmc10[column] = selectedmarket[column].sort_values(ascending=False)\n",
    "    \n",
    "    #take the top coins\n",
    "    topmc10[column] = selectedmc10[column].head(10)\n",
    "    #take the index of the top coins\n",
    "    topcoins10[column] = topmc10[column].index\n",
    "    \n",
    "    #get the share cap of the top 10\n",
    "    sc10[column] = share_cap(topmc10[column], 0.15)\n",
    "    \n",
    "    #total cap of top 10\n",
    "    tc10[column] = sum(sc10[column])\n",
    "    \n",
    "    #percentage share to be allocated for top 10\n",
    "    ps10[column] = [x / tc10[column] for x in sc10[column] ]\n",
    "    \n",
    "    #building dataframe of top10 coins by mc and %share to be invested\n",
    "    invest10[column] = pd.DataFrame()\n",
    "    invest10[column] = pd.DataFrame({'coin': topcoins10[column], 'pct_share': ps10[column]})\n",
    "    invest10[column] = invest10[column].set_index('coin')\n",
    "        \n",
    "        \n",
    "    #building dataframe of top 20 coins by mc and close price of that week\n",
    "    for name in selectedreturns:\n",
    "        returns10[column] = pd.DataFrame()\n",
    "        returns10[column] = pd.DataFrame({'returns': selectedreturns[column]})\n",
    "        returns10[column] = returns10[column].loc[topcoins10[column]]\n",
    "        \n",
    "     #for loop to generate portfolio returns for a particular week\n",
    "    portfolio_simple_returns10 = {}\n",
    "    portfolio_total_returns10 = list()\n",
    "\n",
    "    for i, df in invest10.items():\n",
    "        portfolio_simple_returns10[i] = invest10[i].transpose().dot(returns10[i])\n",
    "        portfolio_total_returns10.append(portfolio_simple_returns10[i]['returns'])      "
   ]
  },
  {
   "cell_type": "code",
<<<<<<< HEAD
   "execution_count": null,
=======
   "execution_count": 18,
>>>>>>> 6341136528033f1c37910ec30a064f4fb0a58db0
   "metadata": {},
   "outputs": [],
   "source": [
    "invest10"
   ]
  },
  {
   "cell_type": "code",
   "execution_count": 19,
   "metadata": {},
   "outputs": [
    {
     "data": {
      "text/html": [
       "<div>\n",
       "<style scoped>\n",
       "    .dataframe tbody tr th:only-of-type {\n",
       "        vertical-align: middle;\n",
       "    }\n",
       "\n",
       "    .dataframe tbody tr th {\n",
       "        vertical-align: top;\n",
       "    }\n",
       "\n",
       "    .dataframe thead th {\n",
       "        text-align: right;\n",
       "    }\n",
       "</style>\n",
       "<table border=\"1\" class=\"dataframe\">\n",
       "  <thead>\n",
       "    <tr style=\"text-align: right;\">\n",
       "      <th></th>\n",
       "      <th>weekly_simple_returns</th>\n",
       "    </tr>\n",
       "    <tr>\n",
       "      <th>date</th>\n",
       "      <th></th>\n",
       "    </tr>\n",
       "  </thead>\n",
       "  <tbody>\n",
       "    <tr>\n",
       "      <th>2016-01-03</th>\n",
       "      <td>NaN</td>\n",
       "    </tr>\n",
       "    <tr>\n",
       "      <th>2016-01-10</th>\n",
       "      <td>0.005970</td>\n",
       "    </tr>\n",
       "    <tr>\n",
       "      <th>2016-01-17</th>\n",
       "      <td>0.062970</td>\n",
       "    </tr>\n",
       "    <tr>\n",
       "      <th>2016-01-24</th>\n",
       "      <td>0.050359</td>\n",
       "    </tr>\n",
       "    <tr>\n",
       "      <th>2016-01-31</th>\n",
       "      <td>0.246193</td>\n",
       "    </tr>\n",
       "  </tbody>\n",
       "</table>\n",
       "</div>"
      ],
      "text/plain": [
       "            weekly_simple_returns\n",
       "date                             \n",
       "2016-01-03                    NaN\n",
       "2016-01-10               0.005970\n",
       "2016-01-17               0.062970\n",
       "2016-01-24               0.050359\n",
       "2016-01-31               0.246193"
      ]
     },
     "execution_count": 19,
     "metadata": {},
     "output_type": "execute_result"
    }
   ],
   "source": [
    "returns_df = pd.DataFrame(data = portfolio_total_returns10)\n",
    "returns_df.columns = ['weekly_simple_returns']\n",
    "returns_df['date'] = selectedreturns.T.index\n",
    "returns_df = returns_df.set_index('date')\n",
    "returns_df.head(5)"
   ]
  },
  {
   "cell_type": "code",
   "execution_count": 20,
   "metadata": {},
   "outputs": [
    {
     "data": {
      "text/plain": [
       "DatetimeIndex(['2016-01-03', '2016-01-10', '2016-01-17', '2016-01-24',\n",
       "               '2016-01-31', '2016-02-07', '2016-02-14', '2016-02-21',\n",
       "               '2016-02-28', '2016-03-06',\n",
       "               ...\n",
       "               '2018-06-03', '2018-06-10', '2018-06-17', '2018-06-24',\n",
       "               '2018-07-01', '2018-07-08', '2018-07-15', '2018-07-22',\n",
       "               '2018-07-29', '2018-08-05'],\n",
       "              dtype='datetime64[ns]', length=136, freq='W-SUN')"
      ]
     },
     "execution_count": 20,
     "metadata": {},
     "output_type": "execute_result"
    }
   ],
   "source": [
    "selectedmarket.columns"
   ]
  },
  {
   "cell_type": "code",
<<<<<<< HEAD
   "execution_count": 166,
=======
   "execution_count": 21,
>>>>>>> 6341136528033f1c37910ec30a064f4fb0a58db0
   "metadata": {},
   "outputs": [
    {
     "name": "stdout",
     "output_type": "stream",
     "text": [
      "Getting USDT data\n"
     ]
    },
    {
     "data": {
      "text/html": [
       "<div>\n",
       "<style scoped>\n",
       "    .dataframe tbody tr th:only-of-type {\n",
       "        vertical-align: middle;\n",
       "    }\n",
       "\n",
       "    .dataframe tbody tr th {\n",
       "        vertical-align: top;\n",
       "    }\n",
       "\n",
       "    .dataframe thead th {\n",
       "        text-align: right;\n",
       "    }\n",
       "</style>\n",
       "<table border=\"1\" class=\"dataframe\">\n",
       "  <thead>\n",
       "    <tr style=\"text-align: right;\">\n",
       "      <th></th>\n",
       "      <th>tether</th>\n",
       "    </tr>\n",
       "  </thead>\n",
       "  <tbody>\n",
       "    <tr>\n",
       "      <th>2016-01-03</th>\n",
       "      <td>NaN</td>\n",
       "    </tr>\n",
       "    <tr>\n",
       "      <th>2016-01-10</th>\n",
       "      <td>4.433738</td>\n",
       "    </tr>\n",
       "    <tr>\n",
       "      <th>2016-01-17</th>\n",
       "      <td>-0.205606</td>\n",
       "    </tr>\n",
       "    <tr>\n",
       "      <th>2016-01-24</th>\n",
       "      <td>0.314902</td>\n",
       "    </tr>\n",
       "    <tr>\n",
       "      <th>2016-01-31</th>\n",
       "      <td>0.670415</td>\n",
       "    </tr>\n",
       "  </tbody>\n",
       "</table>\n",
       "</div>"
      ],
      "text/plain": [
       "              tether\n",
       "2016-01-03       NaN\n",
       "2016-01-10  4.433738\n",
       "2016-01-17 -0.205606\n",
       "2016-01-24  0.314902\n",
       "2016-01-31  0.670415"
      ]
     },
<<<<<<< HEAD
     "execution_count": 166,
=======
     "execution_count": 21,
>>>>>>> 6341136528033f1c37910ec30a064f4fb0a58db0
     "metadata": {},
     "output_type": "execute_result"
    }
   ],
   "source": [
    "print('Getting USDT data')\n",
    "\n",
    "usdt_vol = pd.DataFrame(data = vol_data.loc['tether'])\n",
    "\n",
    "# PCT Change in tether volume\n",
    "usdt_pct = usdt_vol.pct_change(1)\n",
    "usdt_pct.head(5)"
   ]
  },
  {
   "cell_type": "code",
<<<<<<< HEAD
   "execution_count": 167,
=======
   "execution_count": 51,
>>>>>>> 6341136528033f1c37910ec30a064f4fb0a58db0
   "metadata": {},
   "outputs": [
    {
     "data": {
      "text/html": [
       "<div>\n",
       "<style scoped>\n",
       "    .dataframe tbody tr th:only-of-type {\n",
       "        vertical-align: middle;\n",
       "    }\n",
       "\n",
       "    .dataframe tbody tr th {\n",
       "        vertical-align: top;\n",
       "    }\n",
       "\n",
       "    .dataframe thead th {\n",
       "        text-align: right;\n",
       "    }\n",
       "</style>\n",
       "<table border=\"1\" class=\"dataframe\">\n",
       "  <thead>\n",
       "    <tr style=\"text-align: right;\">\n",
       "      <th></th>\n",
       "      <th>tether</th>\n",
       "    </tr>\n",
       "  </thead>\n",
       "  <tbody>\n",
       "    <tr>\n",
       "      <th>2016-01-10</th>\n",
       "      <td>4.433738</td>\n",
       "    </tr>\n",
       "    <tr>\n",
       "      <th>2016-01-17</th>\n",
       "      <td>-0.205606</td>\n",
       "    </tr>\n",
       "    <tr>\n",
       "      <th>2016-01-24</th>\n",
       "      <td>0.314902</td>\n",
       "    </tr>\n",
       "    <tr>\n",
       "      <th>2016-01-31</th>\n",
       "      <td>0.670415</td>\n",
       "    </tr>\n",
       "    <tr>\n",
       "      <th>2016-02-07</th>\n",
       "      <td>1.184003</td>\n",
       "    </tr>\n",
<<<<<<< HEAD
       "    <tr>\n",
       "      <th>2016-02-14</th>\n",
       "      <td>-0.328608</td>\n",
       "    </tr>\n",
       "    <tr>\n",
       "      <th>2016-02-21</th>\n",
       "      <td>-0.102718</td>\n",
       "    </tr>\n",
       "    <tr>\n",
       "      <th>2016-02-28</th>\n",
       "      <td>0.754591</td>\n",
       "    </tr>\n",
       "    <tr>\n",
       "      <th>2016-03-06</th>\n",
       "      <td>0.463442</td>\n",
       "    </tr>\n",
       "    <tr>\n",
       "      <th>2016-03-13</th>\n",
       "      <td>-0.042238</td>\n",
       "    </tr>\n",
=======
>>>>>>> 6341136528033f1c37910ec30a064f4fb0a58db0
       "  </tbody>\n",
       "</table>\n",
       "</div>"
      ],
      "text/plain": [
       "              tether\n",
       "2016-01-10  4.433738\n",
       "2016-01-17 -0.205606\n",
       "2016-01-24  0.314902\n",
       "2016-01-31  0.670415\n",
<<<<<<< HEAD
       "2016-02-07  1.184003\n",
       "2016-02-14 -0.328608\n",
       "2016-02-21 -0.102718\n",
       "2016-02-28  0.754591\n",
       "2016-03-06  0.463442\n",
       "2016-03-13 -0.042238"
      ]
     },
     "execution_count": 167,
=======
       "2016-02-07  1.184003"
      ]
     },
     "execution_count": 51,
>>>>>>> 6341136528033f1c37910ec30a064f4fb0a58db0
     "metadata": {},
     "output_type": "execute_result"
    }
   ],
   "source": [
    "usdt_pct = usdt_vol.pct_change(1)\n",
<<<<<<< HEAD
    "usdt_pct2 = usdt_pct.iloc[1::]\n",
    "usdt_pct2.head(10)\n"
=======
    "usdt_pct=usdt_pct.dropna()\n",
    "usdt_pct.head()"
   ]
  },
  {
   "cell_type": "code",
   "execution_count": 52,
   "metadata": {},
   "outputs": [
    {
     "data": {
      "text/html": [
       "<div>\n",
       "<style scoped>\n",
       "    .dataframe tbody tr th:only-of-type {\n",
       "        vertical-align: middle;\n",
       "    }\n",
       "\n",
       "    .dataframe tbody tr th {\n",
       "        vertical-align: top;\n",
       "    }\n",
       "\n",
       "    .dataframe thead th {\n",
       "        text-align: right;\n",
       "    }\n",
       "</style>\n",
       "<table border=\"1\" class=\"dataframe\">\n",
       "  <thead>\n",
       "    <tr style=\"text-align: right;\">\n",
       "      <th></th>\n",
       "      <th>2016-01-10 00:00:00</th>\n",
       "      <th>2016-01-17 00:00:00</th>\n",
       "      <th>2016-01-24 00:00:00</th>\n",
       "      <th>2016-01-31 00:00:00</th>\n",
       "      <th>2016-02-07 00:00:00</th>\n",
       "      <th>2016-02-14 00:00:00</th>\n",
       "      <th>2016-02-21 00:00:00</th>\n",
       "      <th>2016-02-28 00:00:00</th>\n",
       "      <th>2016-03-06 00:00:00</th>\n",
       "      <th>2016-03-13 00:00:00</th>\n",
       "      <th>...</th>\n",
       "      <th>2018-06-03 00:00:00</th>\n",
       "      <th>2018-06-10 00:00:00</th>\n",
       "      <th>2018-06-17 00:00:00</th>\n",
       "      <th>2018-06-24 00:00:00</th>\n",
       "      <th>2018-07-01 00:00:00</th>\n",
       "      <th>2018-07-08 00:00:00</th>\n",
       "      <th>2018-07-15 00:00:00</th>\n",
       "      <th>2018-07-22 00:00:00</th>\n",
       "      <th>2018-07-29 00:00:00</th>\n",
       "      <th>2018-08-05 00:00:00</th>\n",
       "    </tr>\n",
       "  </thead>\n",
       "  <tbody>\n",
       "    <tr>\n",
       "      <th>tether</th>\n",
       "      <td>4.433738</td>\n",
       "      <td>-0.205606</td>\n",
       "      <td>0.314902</td>\n",
       "      <td>0.670415</td>\n",
       "      <td>1.184003</td>\n",
       "      <td>-0.328608</td>\n",
       "      <td>-0.102718</td>\n",
       "      <td>0.754591</td>\n",
       "      <td>0.463442</td>\n",
       "      <td>-0.042238</td>\n",
       "      <td>...</td>\n",
       "      <td>0.085973</td>\n",
       "      <td>-0.0225</td>\n",
       "      <td>0.057858</td>\n",
       "      <td>-0.166141</td>\n",
       "      <td>0.101603</td>\n",
       "      <td>0.062772</td>\n",
       "      <td>-0.105976</td>\n",
       "      <td>0.302638</td>\n",
       "      <td>-0.057887</td>\n",
       "      <td>0.019691</td>\n",
       "    </tr>\n",
       "  </tbody>\n",
       "</table>\n",
       "<p>1 rows × 135 columns</p>\n",
       "</div>"
      ],
      "text/plain": [
       "        2016-01-10  2016-01-17  2016-01-24  2016-01-31  2016-02-07  \\\n",
       "tether    4.433738   -0.205606    0.314902    0.670415    1.184003   \n",
       "\n",
       "        2016-02-14  2016-02-21  2016-02-28  2016-03-06  2016-03-13  \\\n",
       "tether   -0.328608   -0.102718    0.754591    0.463442   -0.042238   \n",
       "\n",
       "           ...      2018-06-03  2018-06-10  2018-06-17  2018-06-24  \\\n",
       "tether     ...        0.085973     -0.0225    0.057858   -0.166141   \n",
       "\n",
       "        2018-07-01  2018-07-08  2018-07-15  2018-07-22  2018-07-29  2018-08-05  \n",
       "tether    0.101603    0.062772   -0.105976    0.302638   -0.057887    0.019691  \n",
       "\n",
       "[1 rows x 135 columns]"
      ]
     },
     "execution_count": 52,
     "metadata": {},
     "output_type": "execute_result"
    }
   ],
   "source": [
    "usdt_pct_t=usdt_pct.T\n",
    "#usdt_pct_t.index=data.index?\n",
    "usdt_pct_t.head()"
   ]
  },
  {
   "cell_type": "code",
   "execution_count": 53,
   "metadata": {},
   "outputs": [
    {
     "ename": "TypeError",
     "evalue": "cannot do positional indexing on <class 'pandas.core.indexes.datetimes.DatetimeIndex'> with these indexers [2016-01-10 00:00:00] of <class 'pandas._libs.tslibs.timestamps.Timestamp'>",
     "output_type": "error",
     "traceback": [
      "\u001b[0;31m---------------------------------------------------------------------------\u001b[0m",
      "\u001b[0;31mTypeError\u001b[0m                                 Traceback (most recent call last)",
      "\u001b[0;32m<ipython-input-53-8b0af6fe7804>\u001b[0m in \u001b[0;36m<module>\u001b[0;34m()\u001b[0m\n\u001b[1;32m      3\u001b[0m \u001b[0;34m\u001b[0m\u001b[0m\n\u001b[1;32m      4\u001b[0m \u001b[0;32mfor\u001b[0m \u001b[0mi\u001b[0m \u001b[0;32min\u001b[0m \u001b[0musdt_pct_t\u001b[0m\u001b[0;34m.\u001b[0m\u001b[0mcolumns\u001b[0m\u001b[0;34m:\u001b[0m\u001b[0;34m\u001b[0m\u001b[0m\n\u001b[0;32m----> 5\u001b[0;31m     \u001b[0;32mif\u001b[0m \u001b[0musdt_pct\u001b[0m\u001b[0;34m.\u001b[0m\u001b[0miloc\u001b[0m\u001b[0;34m[\u001b[0m\u001b[0mi\u001b[0m\u001b[0;34m]\u001b[0m\u001b[0;34m[\u001b[0m\u001b[0;34m'tether'\u001b[0m\u001b[0;34m]\u001b[0m \u001b[0;34m>=\u001b[0m \u001b[0;36m0\u001b[0m\u001b[0;34m:\u001b[0m\u001b[0;34m\u001b[0m\u001b[0m\n\u001b[0m\u001b[1;32m      6\u001b[0m         \u001b[0musdt_share\u001b[0m\u001b[0;34m[\u001b[0m\u001b[0mi\u001b[0m\u001b[0;34m]\u001b[0m \u001b[0;34m=\u001b[0m \u001b[0musdt_share\u001b[0m\u001b[0;34m[\u001b[0m\u001b[0mi\u001b[0m\u001b[0;34m-\u001b[0m\u001b[0;36m1\u001b[0m\u001b[0;34m]\u001b[0m \u001b[0;34m+\u001b[0m \u001b[0;36m0.01\u001b[0m\u001b[0;34m\u001b[0m\u001b[0m\n\u001b[1;32m      7\u001b[0m     \u001b[0;32melif\u001b[0m \u001b[0musdt_pct\u001b[0m\u001b[0;34m.\u001b[0m\u001b[0miloc\u001b[0m\u001b[0;34m[\u001b[0m\u001b[0mi\u001b[0m\u001b[0;34m]\u001b[0m\u001b[0;34m[\u001b[0m\u001b[0;34m'tether'\u001b[0m\u001b[0;34m]\u001b[0m \u001b[0;34m<\u001b[0m \u001b[0;36m0\u001b[0m\u001b[0;34m:\u001b[0m\u001b[0;34m\u001b[0m\u001b[0m\n",
      "\u001b[0;32m~/.pyenv/versions/3.6.6/lib/python3.6/site-packages/pandas/core/indexing.py\u001b[0m in \u001b[0;36m__getitem__\u001b[0;34m(self, key)\u001b[0m\n\u001b[1;32m   1476\u001b[0m \u001b[0;34m\u001b[0m\u001b[0m\n\u001b[1;32m   1477\u001b[0m             \u001b[0mmaybe_callable\u001b[0m \u001b[0;34m=\u001b[0m \u001b[0mcom\u001b[0m\u001b[0;34m.\u001b[0m\u001b[0m_apply_if_callable\u001b[0m\u001b[0;34m(\u001b[0m\u001b[0mkey\u001b[0m\u001b[0;34m,\u001b[0m \u001b[0mself\u001b[0m\u001b[0;34m.\u001b[0m\u001b[0mobj\u001b[0m\u001b[0;34m)\u001b[0m\u001b[0;34m\u001b[0m\u001b[0m\n\u001b[0;32m-> 1478\u001b[0;31m             \u001b[0;32mreturn\u001b[0m \u001b[0mself\u001b[0m\u001b[0;34m.\u001b[0m\u001b[0m_getitem_axis\u001b[0m\u001b[0;34m(\u001b[0m\u001b[0mmaybe_callable\u001b[0m\u001b[0;34m,\u001b[0m \u001b[0maxis\u001b[0m\u001b[0;34m=\u001b[0m\u001b[0maxis\u001b[0m\u001b[0;34m)\u001b[0m\u001b[0;34m\u001b[0m\u001b[0m\n\u001b[0m\u001b[1;32m   1479\u001b[0m \u001b[0;34m\u001b[0m\u001b[0m\n\u001b[1;32m   1480\u001b[0m     \u001b[0;32mdef\u001b[0m \u001b[0m_is_scalar_access\u001b[0m\u001b[0;34m(\u001b[0m\u001b[0mself\u001b[0m\u001b[0;34m,\u001b[0m \u001b[0mkey\u001b[0m\u001b[0;34m)\u001b[0m\u001b[0;34m:\u001b[0m\u001b[0;34m\u001b[0m\u001b[0m\n",
      "\u001b[0;32m~/.pyenv/versions/3.6.6/lib/python3.6/site-packages/pandas/core/indexing.py\u001b[0m in \u001b[0;36m_getitem_axis\u001b[0;34m(self, key, axis)\u001b[0m\n\u001b[1;32m   2093\u001b[0m         \u001b[0;31m# a single integer\u001b[0m\u001b[0;34m\u001b[0m\u001b[0;34m\u001b[0m\u001b[0m\n\u001b[1;32m   2094\u001b[0m         \u001b[0;32melse\u001b[0m\u001b[0;34m:\u001b[0m\u001b[0;34m\u001b[0m\u001b[0m\n\u001b[0;32m-> 2095\u001b[0;31m             \u001b[0mkey\u001b[0m \u001b[0;34m=\u001b[0m \u001b[0mself\u001b[0m\u001b[0;34m.\u001b[0m\u001b[0m_convert_scalar_indexer\u001b[0m\u001b[0;34m(\u001b[0m\u001b[0mkey\u001b[0m\u001b[0;34m,\u001b[0m \u001b[0maxis\u001b[0m\u001b[0;34m)\u001b[0m\u001b[0;34m\u001b[0m\u001b[0m\n\u001b[0m\u001b[1;32m   2096\u001b[0m \u001b[0;34m\u001b[0m\u001b[0m\n\u001b[1;32m   2097\u001b[0m             \u001b[0;32mif\u001b[0m \u001b[0;32mnot\u001b[0m \u001b[0mis_integer\u001b[0m\u001b[0;34m(\u001b[0m\u001b[0mkey\u001b[0m\u001b[0;34m)\u001b[0m\u001b[0;34m:\u001b[0m\u001b[0;34m\u001b[0m\u001b[0m\n",
      "\u001b[0;32m~/.pyenv/versions/3.6.6/lib/python3.6/site-packages/pandas/core/indexing.py\u001b[0m in \u001b[0;36m_convert_scalar_indexer\u001b[0;34m(self, key, axis)\u001b[0m\n\u001b[1;32m    259\u001b[0m         \u001b[0max\u001b[0m \u001b[0;34m=\u001b[0m \u001b[0mself\u001b[0m\u001b[0;34m.\u001b[0m\u001b[0mobj\u001b[0m\u001b[0;34m.\u001b[0m\u001b[0m_get_axis\u001b[0m\u001b[0;34m(\u001b[0m\u001b[0mmin\u001b[0m\u001b[0;34m(\u001b[0m\u001b[0maxis\u001b[0m\u001b[0;34m,\u001b[0m \u001b[0mself\u001b[0m\u001b[0;34m.\u001b[0m\u001b[0mndim\u001b[0m \u001b[0;34m-\u001b[0m \u001b[0;36m1\u001b[0m\u001b[0;34m)\u001b[0m\u001b[0;34m)\u001b[0m\u001b[0;34m\u001b[0m\u001b[0m\n\u001b[1;32m    260\u001b[0m         \u001b[0;31m# a scalar\u001b[0m\u001b[0;34m\u001b[0m\u001b[0;34m\u001b[0m\u001b[0m\n\u001b[0;32m--> 261\u001b[0;31m         \u001b[0;32mreturn\u001b[0m \u001b[0max\u001b[0m\u001b[0;34m.\u001b[0m\u001b[0m_convert_scalar_indexer\u001b[0m\u001b[0;34m(\u001b[0m\u001b[0mkey\u001b[0m\u001b[0;34m,\u001b[0m \u001b[0mkind\u001b[0m\u001b[0;34m=\u001b[0m\u001b[0mself\u001b[0m\u001b[0;34m.\u001b[0m\u001b[0mname\u001b[0m\u001b[0;34m)\u001b[0m\u001b[0;34m\u001b[0m\u001b[0m\n\u001b[0m\u001b[1;32m    262\u001b[0m \u001b[0;34m\u001b[0m\u001b[0m\n\u001b[1;32m    263\u001b[0m     \u001b[0;32mdef\u001b[0m \u001b[0m_convert_slice_indexer\u001b[0m\u001b[0;34m(\u001b[0m\u001b[0mself\u001b[0m\u001b[0;34m,\u001b[0m \u001b[0mkey\u001b[0m\u001b[0;34m,\u001b[0m \u001b[0maxis\u001b[0m\u001b[0;34m)\u001b[0m\u001b[0;34m:\u001b[0m\u001b[0;34m\u001b[0m\u001b[0m\n",
      "\u001b[0;32m~/.pyenv/versions/3.6.6/lib/python3.6/site-packages/pandas/core/indexes/datetimelike.py\u001b[0m in \u001b[0;36m_convert_scalar_indexer\u001b[0;34m(self, key, kind)\u001b[0m\n\u001b[1;32m    749\u001b[0m \u001b[0;34m\u001b[0m\u001b[0m\n\u001b[1;32m    750\u001b[0m         return (super(DatetimeIndexOpsMixin, self)\n\u001b[0;32m--> 751\u001b[0;31m                 ._convert_scalar_indexer(key, kind=kind))\n\u001b[0m\u001b[1;32m    752\u001b[0m \u001b[0;34m\u001b[0m\u001b[0m\n\u001b[1;32m    753\u001b[0m     \u001b[0;32mdef\u001b[0m \u001b[0m_add_datelike\u001b[0m\u001b[0;34m(\u001b[0m\u001b[0mself\u001b[0m\u001b[0;34m,\u001b[0m \u001b[0mother\u001b[0m\u001b[0;34m)\u001b[0m\u001b[0;34m:\u001b[0m\u001b[0;34m\u001b[0m\u001b[0m\n",
      "\u001b[0;32m~/.pyenv/versions/3.6.6/lib/python3.6/site-packages/pandas/core/indexes/numeric.py\u001b[0m in \u001b[0;36m_convert_scalar_indexer\u001b[0;34m(self, key, kind)\u001b[0m\n\u001b[1;32m    185\u001b[0m             \u001b[0mkey\u001b[0m \u001b[0;34m=\u001b[0m \u001b[0mself\u001b[0m\u001b[0;34m.\u001b[0m\u001b[0m_maybe_cast_indexer\u001b[0m\u001b[0;34m(\u001b[0m\u001b[0mkey\u001b[0m\u001b[0;34m)\u001b[0m\u001b[0;34m\u001b[0m\u001b[0m\n\u001b[1;32m    186\u001b[0m         return (super(Int64Index, self)\n\u001b[0;32m--> 187\u001b[0;31m                 ._convert_scalar_indexer(key, kind=kind))\n\u001b[0m\u001b[1;32m    188\u001b[0m \u001b[0;34m\u001b[0m\u001b[0m\n\u001b[1;32m    189\u001b[0m     \u001b[0;32mdef\u001b[0m \u001b[0m_wrap_joined_index\u001b[0m\u001b[0;34m(\u001b[0m\u001b[0mself\u001b[0m\u001b[0;34m,\u001b[0m \u001b[0mjoined\u001b[0m\u001b[0;34m,\u001b[0m \u001b[0mother\u001b[0m\u001b[0;34m)\u001b[0m\u001b[0;34m:\u001b[0m\u001b[0;34m\u001b[0m\u001b[0m\n",
      "\u001b[0;32m~/.pyenv/versions/3.6.6/lib/python3.6/site-packages/pandas/core/indexes/base.py\u001b[0m in \u001b[0;36m_convert_scalar_indexer\u001b[0;34m(self, key, kind)\u001b[0m\n\u001b[1;32m   1650\u001b[0m \u001b[0;34m\u001b[0m\u001b[0m\n\u001b[1;32m   1651\u001b[0m         \u001b[0;32mif\u001b[0m \u001b[0mkind\u001b[0m \u001b[0;34m==\u001b[0m \u001b[0;34m'iloc'\u001b[0m\u001b[0;34m:\u001b[0m\u001b[0;34m\u001b[0m\u001b[0m\n\u001b[0;32m-> 1652\u001b[0;31m             \u001b[0;32mreturn\u001b[0m \u001b[0mself\u001b[0m\u001b[0;34m.\u001b[0m\u001b[0m_validate_indexer\u001b[0m\u001b[0;34m(\u001b[0m\u001b[0;34m'positional'\u001b[0m\u001b[0;34m,\u001b[0m \u001b[0mkey\u001b[0m\u001b[0;34m,\u001b[0m \u001b[0mkind\u001b[0m\u001b[0;34m)\u001b[0m\u001b[0;34m\u001b[0m\u001b[0m\n\u001b[0m\u001b[1;32m   1653\u001b[0m \u001b[0;34m\u001b[0m\u001b[0m\n\u001b[1;32m   1654\u001b[0m         \u001b[0;32mif\u001b[0m \u001b[0mlen\u001b[0m\u001b[0;34m(\u001b[0m\u001b[0mself\u001b[0m\u001b[0;34m)\u001b[0m \u001b[0;32mand\u001b[0m \u001b[0;32mnot\u001b[0m \u001b[0misinstance\u001b[0m\u001b[0;34m(\u001b[0m\u001b[0mself\u001b[0m\u001b[0;34m,\u001b[0m \u001b[0mABCMultiIndex\u001b[0m\u001b[0;34m,\u001b[0m\u001b[0;34m)\u001b[0m\u001b[0;34m:\u001b[0m\u001b[0;34m\u001b[0m\u001b[0m\n",
      "\u001b[0;32m~/.pyenv/versions/3.6.6/lib/python3.6/site-packages/pandas/core/indexes/base.py\u001b[0m in \u001b[0;36m_validate_indexer\u001b[0;34m(self, form, key, kind)\u001b[0m\n\u001b[1;32m   4143\u001b[0m             \u001b[0;32mpass\u001b[0m\u001b[0;34m\u001b[0m\u001b[0m\n\u001b[1;32m   4144\u001b[0m         \u001b[0;32melif\u001b[0m \u001b[0mkind\u001b[0m \u001b[0;32min\u001b[0m \u001b[0;34m[\u001b[0m\u001b[0;34m'iloc'\u001b[0m\u001b[0;34m,\u001b[0m \u001b[0;34m'getitem'\u001b[0m\u001b[0;34m]\u001b[0m\u001b[0;34m:\u001b[0m\u001b[0;34m\u001b[0m\u001b[0m\n\u001b[0;32m-> 4145\u001b[0;31m             \u001b[0mself\u001b[0m\u001b[0;34m.\u001b[0m\u001b[0m_invalid_indexer\u001b[0m\u001b[0;34m(\u001b[0m\u001b[0mform\u001b[0m\u001b[0;34m,\u001b[0m \u001b[0mkey\u001b[0m\u001b[0;34m)\u001b[0m\u001b[0;34m\u001b[0m\u001b[0m\n\u001b[0m\u001b[1;32m   4146\u001b[0m         \u001b[0;32mreturn\u001b[0m \u001b[0mkey\u001b[0m\u001b[0;34m\u001b[0m\u001b[0m\n\u001b[1;32m   4147\u001b[0m \u001b[0;34m\u001b[0m\u001b[0m\n",
      "\u001b[0;32m~/.pyenv/versions/3.6.6/lib/python3.6/site-packages/pandas/core/indexes/base.py\u001b[0m in \u001b[0;36m_invalid_indexer\u001b[0;34m(self, form, key)\u001b[0m\n\u001b[1;32m   1861\u001b[0m                         \"indexers [{key}] of {kind}\".format(\n\u001b[1;32m   1862\u001b[0m                             \u001b[0mform\u001b[0m\u001b[0;34m=\u001b[0m\u001b[0mform\u001b[0m\u001b[0;34m,\u001b[0m \u001b[0mklass\u001b[0m\u001b[0;34m=\u001b[0m\u001b[0mtype\u001b[0m\u001b[0;34m(\u001b[0m\u001b[0mself\u001b[0m\u001b[0;34m)\u001b[0m\u001b[0;34m,\u001b[0m \u001b[0mkey\u001b[0m\u001b[0;34m=\u001b[0m\u001b[0mkey\u001b[0m\u001b[0;34m,\u001b[0m\u001b[0;34m\u001b[0m\u001b[0m\n\u001b[0;32m-> 1863\u001b[0;31m                             kind=type(key)))\n\u001b[0m\u001b[1;32m   1864\u001b[0m \u001b[0;34m\u001b[0m\u001b[0m\n\u001b[1;32m   1865\u001b[0m     \u001b[0;32mdef\u001b[0m \u001b[0mget_duplicates\u001b[0m\u001b[0;34m(\u001b[0m\u001b[0mself\u001b[0m\u001b[0;34m)\u001b[0m\u001b[0;34m:\u001b[0m\u001b[0;34m\u001b[0m\u001b[0m\n",
      "\u001b[0;31mTypeError\u001b[0m: cannot do positional indexing on <class 'pandas.core.indexes.datetimes.DatetimeIndex'> with these indexers [2016-01-10 00:00:00] of <class 'pandas._libs.tslibs.timestamps.Timestamp'>"
     ]
    }
   ],
   "source": [
    "usdt_share = {}\n",
    "usdt_share[0] = 0\n",
    "\n",
    "for i in usdt_pct_t.columns:\n",
    "    if usdt_pct.iloc[i]['tether'] >= 0:\n",
    "        usdt_share[i] = usdt_share[i-1] + 0.01\n",
    "    elif usdt_pct.iloc[i]['tether'] < 0:\n",
    "        usdt_share[i] = usdt_share[i-1] - 0.01"
>>>>>>> 6341136528033f1c37910ec30a064f4fb0a58db0
   ]
  },
  {
   "cell_type": "code",
   "execution_count": null,
   "metadata": {},
   "outputs": [],
   "source": [
<<<<<<< HEAD
    "# scaler = pre.MinMaxScaler(feature_range=(-0.5,0.5))\n",
    "# usdt_pct_norm = scaler.fit_transform(usdt_pct2)"
   ]
  },
  {
   "cell_type": "code",
   "execution_count": 191,
   "metadata": {},
   "outputs": [
    {
     "data": {
      "text/html": [
       "<div>\n",
       "<style scoped>\n",
       "    .dataframe tbody tr th:only-of-type {\n",
       "        vertical-align: middle;\n",
       "    }\n",
       "\n",
       "    .dataframe tbody tr th {\n",
       "        vertical-align: top;\n",
       "    }\n",
       "\n",
       "    .dataframe thead th {\n",
       "        text-align: right;\n",
       "    }\n",
       "</style>\n",
       "<table border=\"1\" class=\"dataframe\">\n",
       "  <thead>\n",
       "    <tr style=\"text-align: right;\">\n",
       "      <th></th>\n",
       "      <th>1</th>\n",
       "      <th>2</th>\n",
       "      <th>3</th>\n",
       "      <th>4</th>\n",
       "      <th>5</th>\n",
       "      <th>6</th>\n",
       "      <th>7</th>\n",
       "      <th>8</th>\n",
       "      <th>9</th>\n",
       "      <th>10</th>\n",
       "      <th>...</th>\n",
       "      <th>126</th>\n",
       "      <th>127</th>\n",
       "      <th>128</th>\n",
       "      <th>129</th>\n",
       "      <th>130</th>\n",
       "      <th>131</th>\n",
       "      <th>132</th>\n",
       "      <th>133</th>\n",
       "      <th>134</th>\n",
       "      <th>135</th>\n",
       "    </tr>\n",
       "  </thead>\n",
       "  <tbody>\n",
       "    <tr>\n",
       "      <th>tether</th>\n",
       "      <td>4.433738</td>\n",
       "      <td>-0.205606</td>\n",
       "      <td>0.314902</td>\n",
       "      <td>0.670415</td>\n",
       "      <td>1.184003</td>\n",
       "      <td>-0.328608</td>\n",
       "      <td>-0.102718</td>\n",
       "      <td>0.754591</td>\n",
       "      <td>0.463442</td>\n",
       "      <td>-0.042238</td>\n",
       "      <td>...</td>\n",
       "      <td>0.085973</td>\n",
       "      <td>-0.0225</td>\n",
       "      <td>0.057858</td>\n",
       "      <td>-0.166141</td>\n",
       "      <td>0.101603</td>\n",
       "      <td>0.062772</td>\n",
       "      <td>-0.105976</td>\n",
       "      <td>0.302638</td>\n",
       "      <td>-0.057887</td>\n",
       "      <td>0.019691</td>\n",
       "    </tr>\n",
       "  </tbody>\n",
       "</table>\n",
       "<p>1 rows × 135 columns</p>\n",
       "</div>"
      ],
      "text/plain": [
       "             1         2         3         4         5         6         7    \\\n",
       "tether  4.433738 -0.205606  0.314902  0.670415  1.184003 -0.328608 -0.102718   \n",
       "\n",
       "             8         9         10     ...          126     127       128  \\\n",
       "tether  0.754591  0.463442 -0.042238    ...     0.085973 -0.0225  0.057858   \n",
       "\n",
       "             129       130       131       132       133       134       135  \n",
       "tether -0.166141  0.101603  0.062772 -0.105976  0.302638 -0.057887  0.019691  \n",
       "\n",
       "[1 rows x 135 columns]"
      ]
     },
     "execution_count": 191,
     "metadata": {},
     "output_type": "execute_result"
    }
   ],
   "source": [
    "usdt_pct_t = usdt_pct.T\n",
    "usdt_pct_t = usdt_pct_t.drop(0, axis = 1)\n",
    "usdt_pct_t"
   ]
  },
  {
   "cell_type": "code",
   "execution_count": 199,
   "metadata": {},
   "outputs": [
    {
     "data": {
      "text/plain": [
       "4.4337375026590085"
      ]
     },
     "execution_count": 199,
     "metadata": {},
     "output_type": "execute_result"
    }
   ],
   "source": [
    "usdt_pct_t[1].value"
   ]
  },
  {
   "cell_type": "code",
   "execution_count": 209,
   "metadata": {
    "scrolled": false
   },
   "outputs": [],
   "source": [
    "usdt_share = {}\n",
    "usdt_share[0] = 0\n",
    "\n",
    "\n",
    "for i in usdt_pct_t.columns:\n",
    "    if usdt_pct.iloc[i]['tether'] >= 0:\n",
    "        usdt_share[i] = usdt_share[i-1] + 0.01\n",
    "    elif usdt_pct.iloc[i]['tether'] < 0:\n",
    "        usdt_share[i] = usdt_share[i-1] - 0.01"
   ]
  },
  {
   "cell_type": "code",
   "execution_count": 211,
   "metadata": {},
   "outputs": [
    {
     "data": {
      "text/plain": [
       "0.18000000000000002"
      ]
     },
     "execution_count": 211,
     "metadata": {},
     "output_type": "execute_result"
    }
   ],
   "source": [
    "usdt_share[100]"
=======
    "#plotting cumulative log returns\n",
    "plt.plot(usdt_share['day'], linewidth = 1)\n",
    "plt.plot()\n",
    "plt.axhline(0, color='red', linewidth = 0.5)\n",
    "plt.title('USDT Coinbase Index: Cumulative Weekly Log Returns', fontsize = 18)\n",
    "plt.rcParams['figure.figsize'] = (10,5)\n",
    "plt.grid(color='black', linestyle='-', linewidth=0.05)\n",
    "plt.xticks(np.arange(0,131,step=4), rotation=90, fontsize = 10)\n",
    "plt.yticks(fontsize = 14)\n",
    "plt.show()"
>>>>>>> 6341136528033f1c37910ec30a064f4fb0a58db0
   ]
  },
  {
   "cell_type": "code",
   "execution_count": null,
   "metadata": {},
   "outputs": [],
   "source": []
  }
 ],
 "metadata": {
  "celltoolbar": "Hide code",
  "hide_code_all_hidden": false,
  "kernelspec": {
   "display_name": "Python 3",
   "language": "python",
   "name": "python3"
  },
  "language_info": {
   "codemirror_mode": {
    "name": "ipython",
    "version": 3
   },
   "file_extension": ".py",
   "mimetype": "text/x-python",
   "name": "python",
   "nbconvert_exporter": "python",
   "pygments_lexer": "ipython3",
   "version": "3.6.6"
  }
 },
 "nbformat": 4,
 "nbformat_minor": 2
}
